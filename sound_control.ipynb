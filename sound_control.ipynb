{
  "nbformat": 4,
  "nbformat_minor": 0,
  "metadata": {
    "colab": {
      "provenance": [],
      "authorship_tag": "ABX9TyOeU8Iq7ODdO0AJvjD0q9e3",
      "include_colab_link": true
    },
    "kernelspec": {
      "name": "python3",
      "display_name": "Python 3"
    },
    "language_info": {
      "name": "python"
    }
  },
  "cells": [
    {
      "cell_type": "markdown",
      "metadata": {
        "id": "view-in-github",
        "colab_type": "text"
      },
      "source": [
        "<a href=\"https://colab.research.google.com/github/Yuvraj6085/pillow/blob/main/sound_control.ipynb\" target=\"_parent\"><img src=\"https://colab.research.google.com/assets/colab-badge.svg\" alt=\"Open In Colab\"/></a>"
      ]
    },
    {
      "cell_type": "code",
      "source": [
        "import cv2\n",
        "import mediapipe as mp\n",
        "from math import hypot\n",
        "from ctypes import cast, POINTER\n",
        "from comtypes import CLSCTX_ALL\n",
        "from pycaw.pycaw import AudioUtilities, IAudioEndpointVolume\n",
        "import numpy as np\n",
        "import cv2\n",
        "import mediapipe as mp\n",
        "from math import hypot\n",
        "from ctypes import cast, POINTER\n",
        "from comtypes import CLSCTX_ALL\n",
        "from pycaw.pycaw import AudioUtilities, IAudioEndpointVolume\n",
        "import numpy as np\n",
        "\n",
        "cap = cv2.VideoCapture(0)\n",
        "\n",
        "mpHands = mp.solutions.hands\n",
        "hands = mpHands.Hands()\n",
        "mpDraw = mp.solutions.drawing_utils\n",
        "devices = AudioUtilities.GetSpeakers()\n",
        "interface = devices.Activate(IAudioEndpointVolume._iid_, CLSCTX_ALL, None)\n",
        "volume = cast(interface, POINTER(IAudioEndpointVolume))\n",
        "volbar=400\n",
        "volper=0\n",
        "\n",
        "volMin,volMax = volume.GetVolumeRange()[:2]\n",
        "\n",
        "while True:\n",
        "    success,img = cap.read()\n",
        "    imgRGB = cv2.cvtColor(img,cv2.COLOR_BGR2RGB)\n",
        "\n",
        "    results = hands.process(imgRGB)\n",
        "\n",
        "    lmList = []\n",
        "    if results.multi_hand_landmarks:\n",
        "\n",
        "        for handlandmark in results.multi_hand_landmarks:\n",
        "            for id,lm in enumerate(handlandmark.landmark):\n",
        "                # Get finger joint points\n",
        "                h,w,_ = img.shape\n",
        "                cx,cy = int(lm.x*w),int(lm.y*h)\n",
        "                lmList.append([id,cx,cy]) #adding to the empty list 'lmList'\n",
        "            mpDraw.draw_landmarks(img,handlandmark,mpHands.HAND_CONNECTIONS)\n",
        "\n",
        "    if lmList != []:\n",
        "        #getting the value at a point\n",
        "                        #x      #y\n",
        "        x1,y1 = lmList[4][1],lmList[4][2]  #thumb\n",
        "        x2,y2 = lmList[8][1],lmList[8][2]  #index finger\n",
        "        #creating circle at the tips of thumb and index finger\n",
        "        cv2.circle(img,(x1,y1),13,(255,0,0),cv2.FILLED) #image #fingers #radius #rgb\n",
        "        cv2.circle(img,(x2,y2),13,(255,0,0),cv2.FILLED) #image #fingers #radius #rgb\n",
        "        cv2.line(img,(x1,y1),(x2,y2),(255,0,0),3)  #create a line b/w tips of index finger and thumb\n",
        "\n",
        "        length = hypot(x2-x1,y2-y1)\n",
        "        vol = np.interp(length,[30,350],[volMin,volMax])\n",
        "        volbar=np.interp(length,[30,350],[400,150])\n",
        "        volper=np.interp(length,[30,350],[0,100])\n",
        "\n",
        "\n",
        "        print(vol,int(length))\n",
        "        volume.SetMasterVolumeLevel(vol, None)\n",
        "\n",
        "\n",
        "        cv2.rectangle(img,(50,150),(85,400),(0,0,255),4) # vid ,initial position ,ending position ,rgb ,thickness\n",
        "        cv2.rectangle(img,(50,int(volbar)),(85,400),(0,0,255),cv2.FILLED)\n",
        "        cv2.putText(img,f\"{int(volper)}%\",(10,40),cv2.FONT_ITALIC,1,(0, 255, 98),3)\n",
        "        #tell the volume percentage ,location,font of text,length,rgb color,thickness\n",
        "    cv2.imshow('Image',img) #Show the video\n",
        "    if cv2.waitKey(1) & 0xff==ord(' '): #By using spacebar delay will stop\n",
        "        break\n",
        "\n",
        "cap.release()     #stop cam\n",
        "cv2.destroyAllWindows() #close window"
      ],
      "metadata": {
        "id": "qYFlQHfr4UMk"
      },
      "execution_count": null,
      "outputs": []
    }
  ]
}